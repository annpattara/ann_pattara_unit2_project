{
 "cells": [
  {
   "cell_type": "markdown",
   "metadata": {},
   "source": [
    "<img src=\"http://imgur.com/1ZcRyrc.png\" style=\"float: left; margin: 20px; height: 55px\">\n",
    "\n",
    "# Project 2: Analyzing Chipotle Data\n",
    "\n",
    "_Author: Joseph Nelson (DC)_\n",
    "\n",
    "---"
   ]
  },
  {
   "cell_type": "markdown",
   "metadata": {},
   "source": [
    "For Project 2, you will complete a series of exercises exploring [order data from Chipotle](https://github.com/TheUpshot/chipotle), compliments of _The New York Times'_ \"The Upshot.\"\n",
    "\n",
    "For these exercises, you will conduct basic exploratory data analysis (Pandas not required) to understand the essentials of Chipotle's order data: how many orders are being made, the average price per order, how many different ingredients are used, etc. These allow you to practice business analysis skills while also becoming comfortable with Python."
   ]
  },
  {
   "cell_type": "markdown",
   "metadata": {},
   "source": [
    "---\n",
    "\n",
    "## Basic Level"
   ]
  },
  {
   "cell_type": "markdown",
   "metadata": {},
   "source": [
    "### Part 1: Read in the file with `csv.reader()` and store it in an object called `file_nested_list`.\n",
    "\n",
    "Hint: This is a TSV (tab-separated value) file, and `csv.reader()` needs to be told [how to handle it](https://docs.python.org/2/library/csv.html)."
   ]
  },
  {
   "cell_type": "code",
   "execution_count": 2,
   "metadata": {},
   "outputs": [
    {
     "name": "stdout",
     "output_type": "stream",
     "text": [
      "C:\\Users\\Ann\\Desktop\\GA_DataScience\\unit2_project-master\\data\n"
     ]
    }
   ],
   "source": [
    "cd C:\\Users\\Ann\\Desktop\\GA_DataScience\\unit2_project-master\\data"
   ]
  },
  {
   "cell_type": "code",
   "execution_count": 5,
   "metadata": {},
   "outputs": [
    {
     "name": "stderr",
     "output_type": "stream",
     "text": [
      "C:\\Users\\Ann\\Anaconda3\\lib\\site-packages\\ipykernel_launcher.py:5: DeprecationWarning: 'U' mode is deprecated\n",
      "  \"\"\"\n"
     ]
    }
   ],
   "source": [
    "# To use csv.reader, we must import the csv module\n",
    "import csv\n",
    "\n",
    "# The csv.reader has a delimeter parameter, which we set to '\\t' to indicate that the file is tab-separated\n",
    "with open('chipotle.tsv', mode='rU') as f:   # We temporarily refer to the file by the variable name f for file\n",
    "    file_nested_list = [row for row in csv.reader(f, delimiter='\\t')]   # Create a list by looping through each line in f"
   ]
  },
  {
   "cell_type": "markdown",
   "metadata": {},
   "source": [
    "### Part 2: Separate `file_nested_list` into the `header` and the `data`.\n"
   ]
  },
  {
   "cell_type": "code",
   "execution_count": 11,
   "metadata": {},
   "outputs": [],
   "source": [
    "header = file_nested_list[0]\n",
    "data = file_nested_list[1:]"
   ]
  },
  {
   "cell_type": "markdown",
   "metadata": {},
   "source": [
    "---\n",
    "\n",
    "## Intermediate Level"
   ]
  },
  {
   "cell_type": "markdown",
   "metadata": {},
   "source": [
    "### Part 3: Calculate the average price of an order.\n",
    "\n",
    "Hint: Examine the data to see if the `quantity` column is relevant to this calculation.\n",
    "\n",
    "Hint: Think carefully about the simplest way to do this!"
   ]
  },
  {
   "cell_type": "code",
   "execution_count": 14,
   "metadata": {},
   "outputs": [
    {
     "name": "stdout",
     "output_type": "stream",
     "text": [
      "['order_id', 'quantity', 'item_name', 'choice_description', 'item_price']\n"
     ]
    }
   ],
   "source": [
    "print(header)"
   ]
  },
  {
   "cell_type": "code",
   "execution_count": 15,
   "metadata": {},
   "outputs": [
    {
     "name": "stdout",
     "output_type": "stream",
     "text": [
      "['2', '2', 'Chicken Bowl', '[Tomatillo-Red Chili Salsa (Hot), [Black Beans, Rice, Cheese, Sour Cream]]', '$16.98 ']\n"
     ]
    }
   ],
   "source": [
    "print(data[4])"
   ]
  },
  {
   "cell_type": "code",
   "execution_count": 18,
   "metadata": {},
   "outputs": [
    {
     "name": "stdout",
     "output_type": "stream",
     "text": [
      "['3', '1', 'Chicken Bowl', '[Fresh Tomato Salsa (Mild), [Rice, Cheese, Sour Cream, Guacamole, Lettuce]]', '$10.98 ']\n"
     ]
    }
   ],
   "source": [
    "print(data[5])"
   ]
  },
  {
   "cell_type": "code",
   "execution_count": 19,
   "metadata": {},
   "outputs": [
    {
     "data": {
      "text/plain": [
       "['$2.39 ', '$3.39 ', '$3.39 ', '$2.39 ', '$16.98 ']"
      ]
     },
     "execution_count": 19,
     "metadata": {},
     "output_type": "execute_result"
    }
   ],
   "source": [
    "prices = [row[4] for row in data]\n",
    "prices[0:5]"
   ]
  },
  {
   "cell_type": "code",
   "execution_count": 21,
   "metadata": {},
   "outputs": [
    {
     "data": {
      "text/plain": [
       "str"
      ]
     },
     "execution_count": 21,
     "metadata": {},
     "output_type": "execute_result"
    }
   ],
   "source": [
    "type(prices[0])"
   ]
  },
  {
   "cell_type": "code",
   "execution_count": 23,
   "metadata": {},
   "outputs": [
    {
     "data": {
      "text/plain": [
       "['2.39 ', '3.39 ', '3.39 ', '2.39 ', '16.98 ']"
      ]
     },
     "execution_count": 23,
     "metadata": {},
     "output_type": "execute_result"
    }
   ],
   "source": [
    "#to make the string into float\n",
    "#remove dollar sign through slicing\n",
    "#\n",
    "prices = [row[4][1:] for row in data]\n",
    "prices[0:5]"
   ]
  },
  {
   "cell_type": "code",
   "execution_count": 25,
   "metadata": {},
   "outputs": [
    {
     "name": "stdout",
     "output_type": "stream",
     "text": [
      "[2.39, 3.39, 3.39, 2.39, 16.98]\n",
      "<class 'float'>\n"
     ]
    }
   ],
   "source": [
    "prices = [float(row[4][1:]) for row in data]\n",
    "print(prices[0:5])\n",
    "print(type(prices[0]))"
   ]
  },
  {
   "cell_type": "code",
   "execution_count": 39,
   "metadata": {},
   "outputs": [
    {
     "data": {
      "text/plain": [
       "18.81"
      ]
     },
     "execution_count": 39,
     "metadata": {},
     "output_type": "execute_result"
    }
   ],
   "source": [
    "total_order_sum = sum([float(row[4][1:]) for row in data])\n",
    "num_orders = len(set([row[0] for row in data]))\n",
    "average_order_price = round(total_order_sum / num_orders, 2)   # rounding it to 2 decimal points\n",
    "average_order_price"
   ]
  },
  {
   "cell_type": "markdown",
   "metadata": {},
   "source": [
    "### Part 4: Create a list (or set) named `unique_sodas` containing all of unique sodas and soft drinks that Chipotle sells.\n",
    "\n",
    "Note: Just look for `'Canned Soda'` and `'Canned Soft Drink'`, and ignore other drinks like `'Izze'`."
   ]
  },
  {
   "cell_type": "code",
   "execution_count": 40,
   "metadata": {},
   "outputs": [
    {
     "data": {
      "text/plain": [
       "{'6 Pack Soft Drink',\n",
       " 'Barbacoa Bowl',\n",
       " 'Barbacoa Burrito',\n",
       " 'Barbacoa Crispy Tacos',\n",
       " 'Barbacoa Salad Bowl',\n",
       " 'Barbacoa Soft Tacos',\n",
       " 'Bottled Water',\n",
       " 'Bowl',\n",
       " 'Burrito',\n",
       " 'Canned Soda',\n",
       " 'Canned Soft Drink',\n",
       " 'Carnitas Bowl',\n",
       " 'Carnitas Burrito',\n",
       " 'Carnitas Crispy Tacos',\n",
       " 'Carnitas Salad',\n",
       " 'Carnitas Salad Bowl',\n",
       " 'Carnitas Soft Tacos',\n",
       " 'Chicken Bowl',\n",
       " 'Chicken Burrito',\n",
       " 'Chicken Crispy Tacos',\n",
       " 'Chicken Salad',\n",
       " 'Chicken Salad Bowl',\n",
       " 'Chicken Soft Tacos',\n",
       " 'Chips',\n",
       " 'Chips and Fresh Tomato Salsa',\n",
       " 'Chips and Guacamole',\n",
       " 'Chips and Mild Fresh Tomato Salsa',\n",
       " 'Chips and Roasted Chili Corn Salsa',\n",
       " 'Chips and Roasted Chili-Corn Salsa',\n",
       " 'Chips and Tomatillo Green Chili Salsa',\n",
       " 'Chips and Tomatillo Red Chili Salsa',\n",
       " 'Chips and Tomatillo-Green Chili Salsa',\n",
       " 'Chips and Tomatillo-Red Chili Salsa',\n",
       " 'Crispy Tacos',\n",
       " 'Izze',\n",
       " 'Nantucket Nectar',\n",
       " 'Salad',\n",
       " 'Side of Chips',\n",
       " 'Steak Bowl',\n",
       " 'Steak Burrito',\n",
       " 'Steak Crispy Tacos',\n",
       " 'Steak Salad',\n",
       " 'Steak Salad Bowl',\n",
       " 'Steak Soft Tacos',\n",
       " 'Veggie Bowl',\n",
       " 'Veggie Burrito',\n",
       " 'Veggie Crispy Tacos',\n",
       " 'Veggie Salad',\n",
       " 'Veggie Salad Bowl',\n",
       " 'Veggie Soft Tacos'}"
      ]
     },
     "execution_count": 40,
     "metadata": {},
     "output_type": "execute_result"
    }
   ],
   "source": [
    "distinct_items = set([row[2] for row in data])\n",
    "distinct_items "
   ]
  },
  {
   "cell_type": "code",
   "execution_count": 42,
   "metadata": {},
   "outputs": [
    {
     "data": {
      "text/plain": [
       "[['9', '2', 'Canned Soda', '[Sprite]', '$2.18 '],\n",
       " ['14', '1', 'Canned Soda', '[Dr. Pepper]', '$1.09 '],\n",
       " ['23', '2', 'Canned Soda', '[Mountain Dew]', '$2.18 '],\n",
       " ['24', '1', 'Canned Soda', '[Sprite]', '$1.09 '],\n",
       " ['47', '1', 'Canned Soda', '[Dr. Pepper]', '$1.09 ']]"
      ]
     },
     "execution_count": 42,
     "metadata": {},
     "output_type": "execute_result"
    }
   ],
   "source": [
    "soda_orders = []\n",
    "for row in data:\n",
    "    if 'Canned' in row[2]:\n",
    "        soda_orders.append(row)\n",
    "soda_orders[0:5]"
   ]
  },
  {
   "cell_type": "code",
   "execution_count": 46,
   "metadata": {},
   "outputs": [
    {
     "data": {
      "text/plain": [
       "[['9', '2', 'Canned Soda', '[Sprite]', '$2.18 '],\n",
       " ['14', '1', 'Canned Soda', '[Dr. Pepper]', '$1.09 '],\n",
       " ['23', '2', 'Canned Soda', '[Mountain Dew]', '$2.18 '],\n",
       " ['24', '1', 'Canned Soda', '[Sprite]', '$1.09 '],\n",
       " ['47', '1', 'Canned Soda', '[Dr. Pepper]', '$1.09 ']]"
      ]
     },
     "execution_count": 46,
     "metadata": {},
     "output_type": "execute_result"
    }
   ],
   "source": [
    "soda_orders = [row for row in data if 'Canned' in row[2]]\n",
    "#soda_orders = [row for row in data if 'Canned Soda' in row[2] or 'Canned Soft Drink' in row[2]]\n",
    "#soda_orders = [row for row in data if 'Canned Soda' == row[2] or 'Canned Soft Drink' == row[2]]\n",
    "soda_orders[0:5]"
   ]
  },
  {
   "cell_type": "code",
   "execution_count": 47,
   "metadata": {},
   "outputs": [
    {
     "data": {
      "text/plain": [
       "['[Sprite]', '[Dr. Pepper]', '[Mountain Dew]', '[Sprite]', '[Dr. Pepper]']"
      ]
     },
     "execution_count": 47,
     "metadata": {},
     "output_type": "execute_result"
    }
   ],
   "source": [
    "sodas = [row[3] for row in data if 'Canned' in row[2]]\n",
    "sodas[0:5]"
   ]
  },
  {
   "cell_type": "code",
   "execution_count": 49,
   "metadata": {},
   "outputs": [
    {
     "name": "stdout",
     "output_type": "stream",
     "text": [
      "[Sprite]\n"
     ]
    }
   ],
   "source": [
    "sodas[0][0]\n",
    "print(sodas[0])"
   ]
  },
  {
   "cell_type": "code",
   "execution_count": 52,
   "metadata": {},
   "outputs": [
    {
     "name": "stdout",
     "output_type": "stream",
     "text": [
      "<class 'str'>\n",
      "8\n"
     ]
    }
   ],
   "source": [
    "print(type(sodas[0]))\n",
    "print(len(sodas[0]))"
   ]
  },
  {
   "cell_type": "code",
   "execution_count": 54,
   "metadata": {},
   "outputs": [
    {
     "data": {
      "text/plain": [
       "['Sprite', 'Dr. Pepper', 'Mountain Dew', 'Sprite', 'Dr. Pepper']"
      ]
     },
     "execution_count": 54,
     "metadata": {},
     "output_type": "execute_result"
    }
   ],
   "source": [
    "sodas = [row[3][1:-1] for row in data if 'Canned' in row[2]]\n",
    "sodas[0:5]"
   ]
  },
  {
   "cell_type": "code",
   "execution_count": 55,
   "metadata": {},
   "outputs": [
    {
     "data": {
      "text/plain": [
       "{'Coca Cola',\n",
       " 'Coke',\n",
       " 'Diet Coke',\n",
       " 'Diet Dr. Pepper',\n",
       " 'Dr. Pepper',\n",
       " 'Lemonade',\n",
       " 'Mountain Dew',\n",
       " 'Nestea',\n",
       " 'Sprite'}"
      ]
     },
     "execution_count": 55,
     "metadata": {},
     "output_type": "execute_result"
    }
   ],
   "source": [
    "unique_sodas = set([row[3][1:-1] for row in data if 'Canned' in row[2]])   # Success in one line of code!\n",
    "unique_sodas"
   ]
  },
  {
   "cell_type": "markdown",
   "metadata": {},
   "source": [
    "---\n",
    "\n",
    "## Advanced Level\n"
   ]
  },
  {
   "cell_type": "markdown",
   "metadata": {},
   "source": [
    "### Part 5: Calculate the average number of toppings per burrito.\n",
    "\n",
    "Note: Let's ignore the `quantity` column to simplify this task.\n",
    "\n",
    "Hint: Think carefully about the easiest way to count the number of toppings!\n"
   ]
  },
  {
   "cell_type": "code",
   "execution_count": 72,
   "metadata": {},
   "outputs": [
    {
     "name": "stdout",
     "output_type": "stream",
     "text": [
      "1172\n",
      "6323\n"
     ]
    },
    {
     "data": {
      "text/plain": [
       "5.4"
      ]
     },
     "execution_count": 72,
     "metadata": {},
     "output_type": "execute_result"
    }
   ],
   "source": [
    "#Approach 1\n",
    "burrito_count = 0\n",
    "topping_count = 0\n",
    "for row in data:\n",
    "    if 'Burrito' in row[2]:\n",
    "        burrito_count += 1\n",
    "        topping_count += (row[3].count(',') + 1) #explaination below\n",
    "print(burrito_count)\n",
    "print(topping_count)\n",
    "\n",
    "round(topping_count / float(burrito_count), 2)"
   ]
  },
  {
   "cell_type": "code",
   "execution_count": 65,
   "metadata": {},
   "outputs": [
    {
     "data": {
      "text/plain": [
       "['4',\n",
       " '1',\n",
       " 'Steak Burrito',\n",
       " '[Tomatillo Red Chili Salsa, [Fajita Vegetables, Black Beans, Pinto Beans, Cheese, Sour Cream, Guacamole, Lettuce]]',\n",
       " '$11.75 ']"
      ]
     },
     "execution_count": 65,
     "metadata": {},
     "output_type": "execute_result"
    }
   ],
   "source": [
    "data[7]"
   ]
  },
  {
   "cell_type": "code",
   "execution_count": 66,
   "metadata": {},
   "outputs": [
    {
     "data": {
      "text/plain": [
       "'[Tomatillo Red Chili Salsa, [Fajita Vegetables, Black Beans, Pinto Beans, Cheese, Sour Cream, Guacamole, Lettuce]]'"
      ]
     },
     "execution_count": 66,
     "metadata": {},
     "output_type": "execute_result"
    }
   ],
   "source": [
    "data[7][3]"
   ]
  },
  {
   "cell_type": "code",
   "execution_count": 67,
   "metadata": {},
   "outputs": [
    {
     "data": {
      "text/plain": [
       "7"
      ]
     },
     "execution_count": 67,
     "metadata": {},
     "output_type": "execute_result"
    }
   ],
   "source": [
    "data[7][3].count(',')"
   ]
  },
  {
   "cell_type": "code",
   "execution_count": null,
   "metadata": {},
   "outputs": [],
   "source": [
    "#7 commas meaning 8 topping (I revised the initial loop)"
   ]
  },
  {
   "cell_type": "code",
   "execution_count": 70,
   "metadata": {},
   "outputs": [
    {
     "data": {
      "text/plain": [
       "5.4"
      ]
     },
     "execution_count": 70,
     "metadata": {},
     "output_type": "execute_result"
    }
   ],
   "source": [
    "#Approach 2\n",
    "burrito_count = sum(1 for row in data if 'Burrito' in row[2])\n",
    "topping_count = sum([row[3].count(',') + 1 for row in data if 'Burrito' in row[2]])\n",
    "round(topping_count / float(burrito_count), 2)"
   ]
  },
  {
   "cell_type": "markdown",
   "metadata": {},
   "source": [
    "### Part 6: Create a dictionary. Let the keys represent chip orders and the values represent the total number of orders.\n",
    "\n",
    "Expected output: `{'Chips and Roasted Chili-Corn Salsa': 18, ... }`\n",
    "\n",
    "Note: Please take the `quantity` column into account!\n",
    "\n",
    "Optional: Learn how to use `.defaultdict()` to simplify your code."
   ]
  },
  {
   "cell_type": "code",
   "execution_count": 79,
   "metadata": {},
   "outputs": [
    {
     "data": {
      "text/plain": [
       "{'Chips and Fresh Tomato Salsa': 130,\n",
       " 'Chips and Tomatillo-Green Chili Salsa': 33,\n",
       " 'Side of Chips': 110,\n",
       " 'Chips and Guacamole': 506,\n",
       " 'Chips and Tomatillo Green Chili Salsa': 45,\n",
       " 'Chips': 230,\n",
       " 'Chips and Tomatillo Red Chili Salsa': 50,\n",
       " 'Chips and Roasted Chili-Corn Salsa': 18,\n",
       " 'Chips and Roasted Chili Corn Salsa': 23,\n",
       " 'Chips and Tomatillo-Red Chili Salsa': 25,\n",
       " 'Chips and Mild Fresh Tomato Salsa': 1}"
      ]
     },
     "execution_count": 79,
     "metadata": {},
     "output_type": "execute_result"
    }
   ],
   "source": [
    "chips = {}\n",
    "\n",
    "# if chip order is not in dictionary, then add a new key/value pair\n",
    "# if chip order is already in dictionary, then update the value for that key\n",
    "for row in data:\n",
    "    if 'Chips' in row[2]:\n",
    "        if row[2] not in chips:\n",
    "            chips[row[2]] = int(row[1])     # this is a new key, so create key/value pair\n",
    "        else:\n",
    "            chips[row[2]] += int(row[1])    # this is an existing key, so add to the value\n",
    "\n",
    "chips"
   ]
  },
  {
   "cell_type": "markdown",
   "metadata": {},
   "source": [
    "---\n",
    "\n",
    "## Bonus: Craft a problem statement about this data that interests you, and then answer it!\n"
   ]
  },
  {
   "cell_type": "code",
   "execution_count": null,
   "metadata": {
    "collapsed": true
   },
   "outputs": [],
   "source": []
  },
  {
   "cell_type": "code",
   "execution_count": null,
   "metadata": {
    "collapsed": true
   },
   "outputs": [],
   "source": []
  },
  {
   "cell_type": "code",
   "execution_count": null,
   "metadata": {
    "collapsed": true
   },
   "outputs": [],
   "source": []
  },
  {
   "cell_type": "code",
   "execution_count": null,
   "metadata": {
    "collapsed": true
   },
   "outputs": [],
   "source": []
  }
 ],
 "metadata": {
  "anaconda-cloud": {},
  "kernelspec": {
   "display_name": "Python 3",
   "language": "python",
   "name": "python3"
  },
  "language_info": {
   "codemirror_mode": {
    "name": "ipython",
    "version": 3
   },
   "file_extension": ".py",
   "mimetype": "text/x-python",
   "name": "python",
   "nbconvert_exporter": "python",
   "pygments_lexer": "ipython3",
   "version": "3.6.5"
  }
 },
 "nbformat": 4,
 "nbformat_minor": 2
}
